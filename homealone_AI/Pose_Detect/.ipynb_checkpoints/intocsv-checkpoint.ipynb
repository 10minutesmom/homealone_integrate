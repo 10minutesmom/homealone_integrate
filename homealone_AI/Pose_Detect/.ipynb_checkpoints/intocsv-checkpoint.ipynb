{
 "cells": [
  {
   "cell_type": "code",
   "execution_count": 3,
   "id": "a07fb0cb",
   "metadata": {},
   "outputs": [],
   "source": [
    "import zipfile\n",
    "zf = zipfile.ZipFile('./images.zip', \"r\")"
   ]
  },
  {
   "cell_type": "code",
   "execution_count": 4,
   "id": "a5f65a5c",
   "metadata": {},
   "outputs": [],
   "source": [
    "images_in_folder = 'images'\n",
    "images_out_folder = 'images_out'\n",
    "csv_out_path = 'csvs_out.csv'"
   ]
  },
  {
   "cell_type": "code",
   "execution_count": 5,
   "id": "ded3ba55",
   "metadata": {},
   "outputs": [],
   "source": [
    "import csv\n",
    "import cv2\n",
    "import numpy as np\n",
    "import os\n",
    "import sys\n",
    "import tqdm\n",
    "import mediapipe as mp"
   ]
  },
  {
   "cell_type": "code",
   "execution_count": 6,
   "id": "f2febe65",
   "metadata": {},
   "outputs": [],
   "source": [
    "mp_drawing = mp.solutions.drawing_utils\n",
    "mp_pose = mp.solutions.pose"
   ]
  },
  {
   "cell_type": "code",
   "execution_count": 7,
   "id": "965b10b5",
   "metadata": {},
   "outputs": [
    {
     "ename": "NameError",
     "evalue": "name 'pose_landmarks' is not defined",
     "output_type": "error",
     "traceback": [
      "\u001b[0;31m---------------------------------------------------------------------------\u001b[0m",
      "\u001b[0;31mNameError\u001b[0m                                 Traceback (most recent call last)",
      "\u001b[0;32m/var/folders/mb/2cm1_3yx7n11x_npw6n1z53h0000gn/T/ipykernel_1748/1673115375.py\u001b[0m in \u001b[0;36m<module>\u001b[0;34m\u001b[0m\n\u001b[0;32m----> 1\u001b[0;31m \u001b[0mlen\u001b[0m\u001b[0;34m(\u001b[0m\u001b[0mpose_landmarks\u001b[0m\u001b[0;34m.\u001b[0m\u001b[0mlandmark\u001b[0m\u001b[0;34m)\u001b[0m\u001b[0;34m\u001b[0m\u001b[0;34m\u001b[0m\u001b[0m\n\u001b[0m",
      "\u001b[0;31mNameError\u001b[0m: name 'pose_landmarks' is not defined"
     ]
    }
   ],
   "source": [
    "len(pose_landmarks.landmark)"
   ]
  },
  {
   "cell_type": "code",
   "execution_count": 1,
   "id": "1f2dd68e",
   "metadata": {},
   "outputs": [
    {
     "ename": "NameError",
     "evalue": "name 'results' is not defined",
     "output_type": "error",
     "traceback": [
      "\u001b[0;31m---------------------------------------------------------------------------\u001b[0m",
      "\u001b[0;31mNameError\u001b[0m                                 Traceback (most recent call last)",
      "\u001b[0;32m/var/folders/mb/2cm1_3yx7n11x_npw6n1z53h0000gn/T/ipykernel_1748/1153463311.py\u001b[0m in \u001b[0;36m<module>\u001b[0;34m\u001b[0m\n\u001b[1;32m      1\u001b[0m \u001b[0;31m#csv Header\u001b[0m\u001b[0;34m\u001b[0m\u001b[0;34m\u001b[0m\u001b[0;34m\u001b[0m\u001b[0m\n\u001b[0;32m----> 2\u001b[0;31m \u001b[0mnum_coords\u001b[0m \u001b[0;34m=\u001b[0m \u001b[0mlen\u001b[0m\u001b[0;34m(\u001b[0m\u001b[0mresults\u001b[0m\u001b[0;34m.\u001b[0m\u001b[0mpose_landmarks\u001b[0m\u001b[0;34m.\u001b[0m\u001b[0mlandmark\u001b[0m\u001b[0;34m)\u001b[0m\u001b[0;34m\u001b[0m\u001b[0;34m\u001b[0m\u001b[0m\n\u001b[0m\u001b[1;32m      3\u001b[0m \u001b[0mlandmarks\u001b[0m \u001b[0;34m=\u001b[0m \u001b[0;34m[\u001b[0m\u001b[0;34m'class'\u001b[0m\u001b[0;34m]\u001b[0m\u001b[0;34m\u001b[0m\u001b[0;34m\u001b[0m\u001b[0m\n\u001b[1;32m      4\u001b[0m \u001b[0;32mfor\u001b[0m \u001b[0mval\u001b[0m \u001b[0;32min\u001b[0m \u001b[0mrange\u001b[0m\u001b[0;34m(\u001b[0m\u001b[0;36m1\u001b[0m\u001b[0;34m,\u001b[0m \u001b[0mnum_coords\u001b[0m\u001b[0;34m+\u001b[0m\u001b[0;36m1\u001b[0m\u001b[0;34m)\u001b[0m\u001b[0;34m:\u001b[0m\u001b[0;34m\u001b[0m\u001b[0;34m\u001b[0m\u001b[0m\n\u001b[1;32m      5\u001b[0m     \u001b[0mlandmarks\u001b[0m \u001b[0;34m+=\u001b[0m \u001b[0;34m[\u001b[0m\u001b[0;34m'x{}'\u001b[0m\u001b[0;34m.\u001b[0m\u001b[0mformat\u001b[0m\u001b[0;34m(\u001b[0m\u001b[0mval\u001b[0m\u001b[0;34m)\u001b[0m\u001b[0;34m,\u001b[0m \u001b[0;34m'y{}'\u001b[0m\u001b[0;34m.\u001b[0m\u001b[0mformat\u001b[0m\u001b[0;34m(\u001b[0m\u001b[0mval\u001b[0m\u001b[0;34m)\u001b[0m\u001b[0;34m,\u001b[0m \u001b[0;34m'z{}'\u001b[0m\u001b[0;34m.\u001b[0m\u001b[0mformat\u001b[0m\u001b[0;34m(\u001b[0m\u001b[0mval\u001b[0m\u001b[0;34m)\u001b[0m\u001b[0;34m,\u001b[0m \u001b[0;34m'v{}'\u001b[0m\u001b[0;34m.\u001b[0m\u001b[0mformat\u001b[0m\u001b[0;34m(\u001b[0m\u001b[0mval\u001b[0m\u001b[0;34m)\u001b[0m\u001b[0;34m]\u001b[0m\u001b[0;34m\u001b[0m\u001b[0;34m\u001b[0m\u001b[0m\n",
      "\u001b[0;31mNameError\u001b[0m: name 'results' is not defined"
     ]
    }
   ],
   "source": [
    "#csv Header\n",
    "num_coords = len(results.pose_landmarks.landmark)\n",
    "landmarks = ['class']\n",
    "for val in range(1, num_coords+1):\n",
    "    landmarks += ['x{}'.format(val), 'y{}'.format(val), 'z{}'.format(val), 'v{}'.format(val)]\n",
    "    "
   ]
  },
  {
   "cell_type": "code",
   "execution_count": 9,
   "id": "b6483b8b",
   "metadata": {},
   "outputs": [
    {
     "name": "stderr",
     "output_type": "stream",
     "text": [
      "Bootstrapping  lay\n",
      "  0%|                                                     | 0/2 [00:00<?, ?it/s]/Library/Frameworks/Python.framework/Versions/3.7/lib/python3.7/site-packages/ipykernel_launcher.py:46: DeprecationWarning: `np.str` is a deprecated alias for the builtin `str`. To silence this warning, use `str` by itself. Doing this will not modify any behavior and is safe. If you specifically wanted the numpy scalar type, use `np.str_` here.\n",
      "Deprecated in NumPy 1.20; for more details and guidance: https://numpy.org/devdocs/release/1.20.0-notes.html#deprecations\n",
      "100%|█████████████████████████████████████████████| 2/2 [00:00<00:00,  3.31it/s]\n",
      "Bootstrapping  sit\n",
      "100%|█████████████████████████████████████████████| 2/2 [00:00<00:00,  3.40it/s]\n",
      "Bootstrapping  stand\n",
      "100%|█████████████████████████████████████████████| 2/2 [00:00<00:00,  3.42it/s]\n"
     ]
    }
   ],
   "source": [
    "with open(csv_out_path, 'w') as csv_out_file:\n",
    "  csv_out_writer = csv.writer(csv_out_file, delimiter=',', quoting=csv.QUOTE_MINIMAL)\n",
    "\n",
    "  # Folder names are used as pose class names.\n",
    "  pose_class_names = sorted(['sit', 'lay', 'stand'])\n",
    "\n",
    "  for pose_class_name in pose_class_names:\n",
    "    print('Bootstrapping ', pose_class_name, file=sys.stderr)\n",
    "\n",
    "    image_names = sorted([\n",
    "        n for n in os.listdir(os.path.join(images_in_folder, pose_class_name))\n",
    "        ])\n",
    "  \n",
    "    for image_name in tqdm.tqdm(image_names, position=0):\n",
    "      # Load image.\n",
    "      input_frame = cv2.imread(os.path.join(images_in_folder, pose_class_name, image_name))\n",
    "      input_frame = cv2.cvtColor(input_frame, cv2.COLOR_BGR2RGB)\n",
    "\n",
    "      # Initialize fresh pose tracker and run it.\n",
    "      with mp_pose.Pose() as pose_tracker:\n",
    "        result = pose_tracker.process(image=input_frame)\n",
    "        pose_landmarks = result.pose_landmarks\n",
    "      \n",
    "      # Save image with pose prediction (if pose was detected).\n",
    "      output_frame = input_frame.copy()\n",
    "      if pose_landmarks is not None:\n",
    "        mp_drawing.draw_landmarks(\n",
    "            image=output_frame,\n",
    "            landmark_list=pose_landmarks,\n",
    "            connections=mp_pose.POSE_CONNECTIONS)\n",
    "      output_frame = cv2.cvtColor(output_frame, cv2.COLOR_RGB2BGR)\n",
    "      cv2.imwrite(os.path.join(images_out_folder, image_name), output_frame)\n",
    "      \n",
    "      # Save landmarks.\n",
    "      if pose_landmarks is not None:\n",
    "        # Check the number of landmarks and take pose landmarks.\n",
    "        assert len(pose_landmarks.landmark) == 33, 'Unexpected number of predicted pose landmarks: {}'.format(len(pose_landmarks.landmark))\n",
    "        pose_landmarks = [[lmk.x, lmk.y, lmk.z] for lmk in pose_landmarks.landmark]\n",
    "\n",
    "        # Map pose landmarks from [0, 1] range to absolute coordinates to get\n",
    "        # correct aspect ratio.\n",
    "        frame_height, frame_width = output_frame.shape[:2]\n",
    "        pose_landmarks *= np.array([frame_width, frame_height, frame_width])\n",
    "\n",
    "        # Write pose sample to CSV.\n",
    "        pose_landmarks = np.around(pose_landmarks, 5).flatten().astype(np.str).tolist()\n",
    "        csv_out_writer.writerow([image_name, pose_class_name] + pose_landmarks)\n",
    "\n"
   ]
  }
 ],
 "metadata": {
  "kernelspec": {
   "display_name": "Python 3 (ipykernel)",
   "language": "python",
   "name": "python3"
  },
  "language_info": {
   "codemirror_mode": {
    "name": "ipython",
    "version": 3
   },
   "file_extension": ".py",
   "mimetype": "text/x-python",
   "name": "python",
   "nbconvert_exporter": "python",
   "pygments_lexer": "ipython3",
   "version": "3.7.3"
  }
 },
 "nbformat": 4,
 "nbformat_minor": 5
}
