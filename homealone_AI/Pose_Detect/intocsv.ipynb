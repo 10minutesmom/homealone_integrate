{
 "cells": [
  {
   "cell_type": "markdown",
   "id": "e8a156a2",
   "metadata": {},
   "source": [
    "## Installations and Initialization"
   ]
  },
  {
   "cell_type": "code",
   "execution_count": 1,
   "id": "a5f65a5c",
   "metadata": {},
   "outputs": [],
   "source": [
    "images_in_folder = 'images'\n",
    "images_out_folder = 'images_out'\n",
    "csv_out_path = 'csvs_out.csv'"
   ]
  },
  {
   "cell_type": "code",
   "execution_count": 2,
   "id": "ded3ba55",
   "metadata": {},
   "outputs": [],
   "source": [
    "import mediapipe as mp\n",
    "import cv2\n",
    "import csv\n",
    "import os\n",
    "import tqdm\n",
    "import numpy as np"
   ]
  },
  {
   "cell_type": "code",
   "execution_count": 3,
   "id": "f2febe65",
   "metadata": {},
   "outputs": [],
   "source": [
    "mp_drawing = mp.solutions.drawing_utils\n",
    "mp_pose = mp.solutions.pose"
   ]
  },
  {
   "cell_type": "markdown",
   "id": "7e8577e7",
   "metadata": {},
   "source": [
    "## CSV Header"
   ]
  },
  {
   "cell_type": "code",
   "execution_count": 4,
   "id": "bec57299",
   "metadata": {},
   "outputs": [],
   "source": [
    "num_coords = 33\n",
    "landmarks = ['class']\n",
    "for val in range(1, num_coords+1):\n",
    "    landmarks += ['x{}'.format(val), 'y{}'.format(val), 'z{}'.format(val)]  "
   ]
  },
  {
   "cell_type": "markdown",
   "id": "de2906fb",
   "metadata": {},
   "source": [
    "## CSV_OUT"
   ]
  },
  {
   "cell_type": "code",
   "execution_count": 5,
   "id": "db39b156",
   "metadata": {},
   "outputs": [
    {
     "name": "stdout",
     "output_type": "stream",
     "text": [
      "Bootstrapping  lay\n"
     ]
    },
    {
     "name": "stderr",
     "output_type": "stream",
     "text": [
      "  0%|                                                   | 0/200 [00:00<?, ?it/s]INFO: Created TensorFlow Lite XNNPACK delegate for CPU.\n",
      "/Users/youngseolee/Desktop/Pose_Detect/venv/lib/python3.7/site-packages/ipykernel_launcher.py:43: DeprecationWarning: `np.str` is a deprecated alias for the builtin `str`. To silence this warning, use `str` by itself. Doing this will not modify any behavior and is safe. If you specifically wanted the numpy scalar type, use `np.str_` here.\n",
      "Deprecated in NumPy 1.20; for more details and guidance: https://numpy.org/devdocs/release/1.20.0-notes.html#deprecations\n",
      "100%|█████████████████████████████████████████| 200/200 [01:09<00:00,  2.86it/s]\n"
     ]
    },
    {
     "name": "stdout",
     "output_type": "stream",
     "text": [
      "Bootstrapping  sit\n"
     ]
    },
    {
     "name": "stderr",
     "output_type": "stream",
     "text": [
      "100%|█████████████████████████████████████████| 200/200 [01:10<00:00,  2.85it/s]\n"
     ]
    },
    {
     "name": "stdout",
     "output_type": "stream",
     "text": [
      "Bootstrapping  stand\n"
     ]
    },
    {
     "name": "stderr",
     "output_type": "stream",
     "text": [
      "100%|█████████████████████████████████████████| 200/200 [01:09<00:00,  2.87it/s]\n"
     ]
    }
   ],
   "source": [
    "with open(csv_out_path, mode='w', newline='') as csv_out_file:\n",
    "    csv_out_writer = csv.writer(csv_out_file, delimiter=',', quotechar='\"', quoting=csv.QUOTE_MINIMAL)\n",
    "    csv_out_writer.writerow(landmarks)\n",
    "    # Folder names are used as pose class names.\n",
    "    pose_class_names = sorted([n for n in os.listdir(images_in_folder) if not n.startswith('.')])\n",
    "    \n",
    "    for pose_class_name in pose_class_names:\n",
    "        print('Bootstrapping ', pose_class_name)\n",
    "\n",
    "        if not os.path.exists(os.path.join(images_out_folder, pose_class_name)):\n",
    "          os.makedirs(os.path.join(images_out_folder, pose_class_name))\n",
    "\n",
    "        image_names = sorted([\n",
    "            n for n in os.listdir(os.path.join(images_in_folder, pose_class_name))\n",
    "            if not n.startswith('.')])\n",
    "        for image_name in tqdm.tqdm(image_names, position=0):\n",
    "          # Load image.\n",
    "          input_frame = cv2.imread(os.path.join(images_in_folder, pose_class_name, image_name))\n",
    "          input_frame = cv2.cvtColor(input_frame, cv2.COLOR_BGR2RGB)\n",
    "\n",
    "          # Initialize fresh pose tracker and run it.\n",
    "          with mp_pose.Pose() as pose_tracker:\n",
    "            result = pose_tracker.process(image=input_frame)\n",
    "            pose_landmarks = result.pose_landmarks\n",
    "\n",
    "          # Save image with pose prediction (if pose was detected).\n",
    "          output_frame = input_frame.copy()\n",
    "          if pose_landmarks is not None:\n",
    "            mp_drawing.draw_landmarks(\n",
    "                image=output_frame,\n",
    "                landmark_list=pose_landmarks,\n",
    "                connections=mp_pose.POSE_CONNECTIONS)\n",
    "          output_frame = cv2.cvtColor(output_frame, cv2.COLOR_RGB2BGR)\n",
    "          cv2.imwrite(os.path.join(images_out_folder, image_name), output_frame)\n",
    "\n",
    "          # Save landmarks.\n",
    "          if pose_landmarks is not None:\n",
    "            # Check the number of landmarks and take pose landmarks.\n",
    "            assert len(pose_landmarks.landmark) == 33, 'Unexpected number of predicted pose landmarks: {}'.format(len(pose_landmarks.landmark))\n",
    "            pose_landmarks = [[lmk.x, lmk.y, lmk.z] for lmk in pose_landmarks.landmark]\n",
    "\n",
    "            # Write pose sample to CSV.\n",
    "            pose_landmarks = np.around(pose_landmarks, 5).flatten().astype(np.str).tolist()\n",
    "            csv_out_writer.writerow([pose_class_name] + pose_landmarks)\n"
   ]
  },
  {
   "cell_type": "code",
   "execution_count": 6,
   "id": "c5c77c9c",
   "metadata": {},
   "outputs": [
    {
     "name": "stderr",
     "output_type": "stream",
     "text": [
      "[ WARN:0@210.730] global /Users/runner/work/opencv-python/opencv-python/opencv/modules/imgcodecs/src/loadsave.cpp (239) findDecoder imread_('images/stand/image_6384.PNG'): can't open/read file: check file path/integrity\n"
     ]
    }
   ],
   "source": [
    "cv2.imread('images/stand/image_6384.PNG')"
   ]
  },
  {
   "cell_type": "code",
   "execution_count": null,
   "id": "0376edef",
   "metadata": {},
   "outputs": [],
   "source": []
  }
 ],
 "metadata": {
  "kernelspec": {
   "display_name": "Python 3 (ipykernel)",
   "language": "python",
   "name": "python3"
  },
  "language_info": {
   "codemirror_mode": {
    "name": "ipython",
    "version": 3
   },
   "file_extension": ".py",
   "mimetype": "text/x-python",
   "name": "python",
   "nbconvert_exporter": "python",
   "pygments_lexer": "ipython3",
   "version": "3.7.3"
  }
 },
 "nbformat": 4,
 "nbformat_minor": 5
}
